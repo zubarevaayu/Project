{
  "cells": [
    {
      "cell_type": "markdown",
      "metadata": {
        "id": "view-in-github",
        "colab_type": "text"
      },
      "source": [
        "<a href=\"https://colab.research.google.com/github/zubarevaayu/Python-Homeworks/blob/main/comparison_conditions.ipynb\" target=\"_parent\"><img src=\"https://colab.research.google.com/assets/colab-badge.svg\" alt=\"Open In Colab\"/></a>"
      ]
    },
    {
      "cell_type": "markdown",
      "source": [
        "# Условия и сравнения\n",
        "\n",
        "Автор: **Булыгин Олег**\n",
        "* [Я в LinkedIn](https://www.linkedin.com/in/obulygin/)  \n",
        "* [Мой канал в ТГ по Python](https://t.me/pythontalk_ru)\n",
        "* [Чат канала](https://t.me/pythontalk_chat)\n",
        "* [Блог в Телетайпе](https://teletype.in/@pythontalk)\n",
        "\n",
        "Ссылочки в ноутбуке ведут на полезные доп. материалы, обязательно всё изучайте :)"
      ],
      "metadata": {
        "id": "T0wakFAoHbTK"
      }
    },
    {
      "cell_type": "markdown",
      "source": [
        "## Повторим [основы](https://t.me/pythontalk_ru/2308)"
      ],
      "metadata": {
        "id": "ce7nvnEWH-ar"
      }
    },
    {
      "cell_type": "code",
      "execution_count": null,
      "metadata": {
        "id": "NsxDeLYBT2ox",
        "colab": {
          "base_uri": "https://localhost:8080/"
        },
        "outputId": "f43cbf87-edcc-4bbb-c908-768234a3d6a2"
      },
      "outputs": [
        {
          "output_type": "stream",
          "name": "stdout",
          "text": [
            "Ответ: 0.03333333333333333\n"
          ]
        }
      ],
      "source": [
        "a = 10 + 20\n",
        "b = a * 30\n",
        "c = a / b\n",
        "print('Ответ:', c)"
      ]
    },
    {
      "cell_type": "markdown",
      "source": [
        "А что увидим в таком случае?"
      ],
      "metadata": {
        "id": "5v3TzraKIOBi"
      }
    },
    {
      "cell_type": "code",
      "execution_count": null,
      "metadata": {
        "id": "r_zpDExFT2o3",
        "colab": {
          "base_uri": "https://localhost:8080/"
        },
        "outputId": "e6bb40a4-4413-41ef-9d3e-3f0c2bc8b6a8"
      },
      "outputs": [
        {
          "output_type": "stream",
          "name": "stdout",
          "text": [
            "10\n"
          ]
        }
      ],
      "source": [
        "print(x)\n",
        "\n",
        "x = 10"
      ]
    },
    {
      "cell_type": "markdown",
      "source": [
        "## Оперторы сравнения\n",
        "\n",
        "Операторы сравнения позволяют сравнивать объекты (вот это поворот!). Результатом работы данных операторов всегда является логическое значение — `True` или `False`.\n",
        "\n"
      ],
      "metadata": {
        "id": "T-fp_o9JKKAx"
      }
    },
    {
      "cell_type": "markdown",
      "source": [
        "\n",
        "<tbody>\n",
        "<tr>\n",
        "<td><b>Оператор</b></td>\n",
        "<td><b>Значение</b></td>\n",
        "</tr>\n",
        "<tr>\n",
        "<td>&lt;</td>\n",
        "<td>Меньше. <em>Условие верно, если первый операнд меньше второго</em></td>\n",
        "</tr>\n",
        "<tr>\n",
        "<td>&gt;</td>\n",
        "<td>Больше. <em>Условие верно, если первый операнд больше второго</em></td>\n",
        "</tr>\n",
        "<tr>\n",
        "<td>&lt;=</td>\n",
        "<td>Меньше или равно. <em>Условие верно, если первый операнд меньше второго&nbsp;либо равен ему</em></td>\n",
        "</tr>\n",
        "<tr>\n",
        "<td>&gt;=</td>\n",
        "<td>Больше или равно. <em>Условие верно, если первый операнд больше второго&nbsp;либо равен ему</em></td>\n",
        "</tr>\n",
        "<tr>\n",
        "<td>==</td>\n",
        "<td>Равенство. <em>Условие верно, если операнды равны</em></td>\n",
        "</tr>\n",
        "<tr>\n",
        "<td>!=</td>\n",
        "<td>Неравенство. <em>Условие верно, если операнды неравны</em></td>\n",
        "</tr>\n",
        "</tbody>\n"
      ],
      "metadata": {
        "id": "ifxev_oIMFTh"
      }
    },
    {
      "cell_type": "markdown",
      "source": [
        "❗Не путайте оператор проверки равенства `==` с оператором присваивания `=`. Первый отвечает за проверку равенства двух операндов, а второй позволяет определять (присваивать) значение переменной."
      ],
      "metadata": {
        "id": "fBiT3TthNVuY"
      }
    },
    {
      "cell_type": "markdown",
      "source": [
        "### Сравнение чисел\n",
        "\n",
        "Предположим, что у нас есть данные о прибыли некоторой компании за 3 года в миллионах рублей:\n",
        "\n",
        "\n",
        "\n"
      ],
      "metadata": {
        "id": "HFqD2RNSMraM"
      }
    },
    {
      "cell_type": "code",
      "source": [
        "income_2021 = 100\n",
        "income_2022 = 105.5\n",
        "income_2023 = 105.5"
      ],
      "metadata": {
        "id": "3vHVAOOnNMIU"
      },
      "execution_count": null,
      "outputs": []
    },
    {
      "cell_type": "markdown",
      "source": [
        "Давайте сравним прибыль компании на каждый год между собой. Для начала проверим равенство трёх переменных:\n",
        "\n"
      ],
      "metadata": {
        "id": "A4K8RzL1NMm-"
      }
    },
    {
      "cell_type": "code",
      "source": [
        "print(income_2021 == income_2022)\n",
        "print(income_2022 == income_2023)"
      ],
      "metadata": {
        "id": "8H9WghJxNP3B",
        "colab": {
          "base_uri": "https://localhost:8080/"
        },
        "outputId": "2e357066-3f2b-4e1b-c89d-40191151578c"
      },
      "execution_count": null,
      "outputs": [
        {
          "output_type": "stream",
          "name": "stdout",
          "text": [
            "False\n",
            "True\n"
          ]
        }
      ]
    },
    {
      "cell_type": "markdown",
      "source": [
        "Конечно же, результаты операций сравнения можно присваивать переменным."
      ],
      "metadata": {
        "id": "jVRNR0HzNrJc"
      }
    },
    {
      "cell_type": "code",
      "source": [
        "comparison_1 = income_2021 >= income_2022\n",
        "comparison_2 = income_2022 >= income_2023\n",
        "\n",
        "print(comparison_1)\n",
        "print(comparison_2)"
      ],
      "metadata": {
        "id": "y3ZZSf5qNl2L",
        "colab": {
          "base_uri": "https://localhost:8080/"
        },
        "outputId": "6385e02f-70ad-4791-97de-19633202b640"
      },
      "execution_count": null,
      "outputs": [
        {
          "output_type": "stream",
          "name": "stdout",
          "text": [
            "False\n",
            "True\n"
          ]
        }
      ]
    },
    {
      "cell_type": "markdown",
      "source": [
        "Операции сравнения можно записывать и в цепочку"
      ],
      "metadata": {
        "id": "uIF3OsONN9YL"
      }
    },
    {
      "cell_type": "code",
      "source": [
        "print(income_2021 < income_2022 < income_2023)"
      ],
      "metadata": {
        "id": "c6X1jTQ8OAnv",
        "colab": {
          "base_uri": "https://localhost:8080/"
        },
        "outputId": "7c6db3fd-dfc9-4410-9371-4d7cf02d7ab1"
      },
      "execution_count": null,
      "outputs": [
        {
          "output_type": "stream",
          "name": "stdout",
          "text": [
            "False\n"
          ]
        }
      ]
    },
    {
      "cell_type": "markdown",
      "source": [
        "### Сравнение строк\n",
        "\n",
        "Сравнение строк реализуется лексикографическим способом. На самом деле, каждому символу соответствует уникальное число, по которым символы различаются между собой. За то, как число связано с символом, отвечает специальный стандарт под названием Unicode.\n",
        "\n",
        "Посмотреть, какое число скрывается за символом можно с помощью функции `ord()`."
      ],
      "metadata": {
        "id": "OR6mF-xXO8Bg"
      }
    },
    {
      "cell_type": "code",
      "source": [
        "print(ord('L'))\n",
        "print(ord('l'))"
      ],
      "metadata": {
        "id": "CffDzi4SPSQP",
        "colab": {
          "base_uri": "https://localhost:8080/"
        },
        "outputId": "1e5cd78b-72d0-442d-9542-492bbaf1ae6b"
      },
      "execution_count": null,
      "outputs": [
        {
          "output_type": "stream",
          "name": "stdout",
          "text": [
            "76\n",
            "108\n"
          ]
        }
      ]
    },
    {
      "cell_type": "markdown",
      "source": [
        "Сравнивая строки, мы сравниваем соответствующие символы в кодировке Unicode, из которых она состоит. Сравнение происходит последовательно: первый символ одной строки сравнивается с первым символом другой. Если кодировки этих символов равны, сравниваются символы на следующей позиции и так далее, пока в строках не закончатся символы. Равенство для строк означает полное равенство всех символов в строках."
      ],
      "metadata": {
        "id": "1uVgwJnxPZee"
      }
    },
    {
      "cell_type": "code",
      "source": [
        "print('L' >= 'l')"
      ],
      "metadata": {
        "id": "frJZXs_6QeKh",
        "colab": {
          "base_uri": "https://localhost:8080/"
        },
        "outputId": "196ecae2-6784-440d-8069-f665a1f1b4f0"
      },
      "execution_count": null,
      "outputs": [
        {
          "output_type": "stream",
          "name": "stdout",
          "text": [
            "False\n"
          ]
        }
      ]
    },
    {
      "cell_type": "code",
      "source": [
        "name_1 = 'Oleg'\n",
        "name_2 = 'Ekaterina'\n",
        "\n",
        "print(name_1 > name_2)"
      ],
      "metadata": {
        "id": "Yd6YGuA4PrAd",
        "colab": {
          "base_uri": "https://localhost:8080/"
        },
        "outputId": "cb3d1b1f-6a00-402b-8c55-c788f1ab732e"
      },
      "execution_count": null,
      "outputs": [
        {
          "output_type": "stream",
          "name": "stdout",
          "text": [
            "False\n"
          ]
        }
      ]
    },
    {
      "cell_type": "markdown",
      "source": [
        "## Логические операторы\n",
        "\n",
        "*   Новый пункт\n",
        "*   Новый пункт\n",
        "\n",
        "\n",
        "\n",
        "Их три:"
      ],
      "metadata": {
        "id": "Mb1Np_U0SByX"
      }
    },
    {
      "cell_type": "markdown",
      "source": [
        "\n",
        "<tbody>\n",
        "<tr>\n",
        "<td><b>Оператор</b></td>\n",
        "<td><b>Смысл</b></td>\n",
        "<td><b>Пояснение</b></td>\n",
        "</tr>\n",
        "<tr>\n",
        "<td><span>not</span></td>\n",
        "<td>Логическое «НЕ»</td>\n",
        "<td>Возвращает противоположное значение</td>\n",
        "</tr>\n",
        "<tr>\n",
        "<td><span>or</span></td>\n",
        "<td>Логическое «ИЛИ»</td>\n",
        "<td>Возвращает <em>True</em>, если хотя бы одна из переменных <em>True</em></td>\n",
        "</tr>\n",
        "<tr>\n",
        "<td><span>and</span></td>\n",
        "<td>Логическое «И»</td>\n",
        "<td>Возвращает <em>True</em>, если обе переменные <em>True</em></td>\n",
        "</tr>\n",
        "</tbody>\n"
      ],
      "metadata": {
        "id": "EElWBp6LSQc_"
      }
    },
    {
      "cell_type": "code",
      "source": [],
      "metadata": {
        "id": "LBWFErjNrnuA"
      },
      "execution_count": null,
      "outputs": []
    },
    {
      "cell_type": "markdown",
      "source": [
        "### Логическое \"НЕ\"\n",
        "\n",
        "Операция логического «НЕ» по смыслу является отрицанием.\n",
        "\n"
      ],
      "metadata": {
        "id": "0eceF9HNS2ii"
      }
    },
    {
      "cell_type": "markdown",
      "source": [
        "<tbody>\n",
        "<tr>\n",
        "<td><b>x</b></td>\n",
        "<td><b>not x</b></td>\n",
        "</tr>\n",
        "<tr>\n",
        "<td>True</td>\n",
        "<td>False</td>\n",
        "</tr>\n",
        "<tr>\n",
        "<td>False</td>\n",
        "<td>True</td>\n",
        "</tr>\n",
        "</tbody>"
      ],
      "metadata": {
        "id": "xUvRIB_zhjtJ"
      }
    },
    {
      "cell_type": "code",
      "source": [
        "print(not True)\n",
        "\n",
        "print(not False)\n",
        "\n",
        "print(not (5 == 10))\n",
        "\n",
        "print(not ('abc' != 'bca'))"
      ],
      "metadata": {
        "id": "oVuhlQJFUngb",
        "colab": {
          "base_uri": "https://localhost:8080/"
        },
        "outputId": "65fafd06-50fa-4de6-a942-afcfa75df1b3"
      },
      "execution_count": null,
      "outputs": [
        {
          "output_type": "stream",
          "name": "stdout",
          "text": [
            "False\n",
            "True\n",
            "True\n",
            "False\n"
          ]
        }
      ]
    },
    {
      "cell_type": "markdown",
      "source": [
        "### Логическое \"И\"\n",
        "\n",
        "Результат применения оператора and будет истинным, если и первое, и второе значения являются истинными. Во всех остальных случаях результат — `False` (ложь).\n",
        "Логическое «И» ещё называют логическим умножением. В результате умножения на выходе получается 1, если перемножить 1 и 1. В остальных случаях любой 0 «зануляет» всё выражение.\n",
        "\n"
      ],
      "metadata": {
        "id": "eNDOUM0jU7aS"
      }
    },
    {
      "cell_type": "markdown",
      "source": [
        "<tbody>\n",
        "<tr>\n",
        "<td><b>x</b></td>\n",
        "<td><b>y</b></td>\n",
        "<td><b>x and y</b></td>\n",
        "</tr>\n",
        "<tr>\n",
        "<td>False (0)</td>\n",
        "<td>False (0)</td>\n",
        "<td>False (0)</td>\n",
        "</tr>\n",
        "<tr>\n",
        "<td>False (0)</td>\n",
        "<td>True (1)</td>\n",
        "<td>False (0)</td>\n",
        "</tr>\n",
        "<tr>\n",
        "<td>True (1)</td>\n",
        "<td>False (0)</td>\n",
        "<td>False (0)</td>\n",
        "</tr>\n",
        "<tr>\n",
        "<td>True (1)</td>\n",
        "<td>True (1)</td>\n",
        "<td>True (1)</td>\n",
        "</tr>\n",
        "</tbody>"
      ],
      "metadata": {
        "id": "z3_Wpa3khp1a"
      }
    },
    {
      "cell_type": "code",
      "source": [
        "a = 1\n",
        "\n",
        "cond_1 = 0 < a\n",
        "\n",
        "cond_2 = 4 > a\n",
        "\n",
        "# Проверяем, будут ли выполняться два условия одновременно\n",
        "print(cond_1 and cond_2)"
      ],
      "metadata": {
        "id": "cb30Ujj48s-C",
        "colab": {
          "base_uri": "https://localhost:8080/"
        },
        "outputId": "71c4ccaa-ca82-4b2b-cbe2-c2cf7af31c75"
      },
      "execution_count": null,
      "outputs": [
        {
          "output_type": "stream",
          "name": "stdout",
          "text": [
            "True\n"
          ]
        }
      ]
    },
    {
      "cell_type": "code",
      "source": [
        "str_1 = 'python'\n",
        "str_2 = 'sql'\n",
        "\n",
        "target_len = 5\n",
        "\n",
        "print(len(str_1) > target_len and len(str_2) > target_len)"
      ],
      "metadata": {
        "id": "YcTNc-e_8z2e",
        "colab": {
          "base_uri": "https://localhost:8080/"
        },
        "outputId": "726c3423-1959-4ab6-b00b-0f6377f3cc20"
      },
      "execution_count": null,
      "outputs": [
        {
          "output_type": "stream",
          "name": "stdout",
          "text": [
            "False\n"
          ]
        }
      ]
    },
    {
      "cell_type": "markdown",
      "source": [
        "### Логическое \"ИЛИ\"\n",
        "\n",
        "Логическое «ИЛИ» подразумевает принцип \"хотя бы одно\" - если хотя бы одно значение является истинным, то и результат тоже будет истинным.\n",
        "\n",
        "Логическое «ИЛИ» называют ещё логическим сложением. В результате сложения можем получить 0, если оба значения — 0. Во всех остальных случаях мы получаем 1.\n",
        "\n",
        "\n",
        "\n"
      ],
      "metadata": {
        "id": "GK2jI03_9wFS"
      }
    },
    {
      "cell_type": "markdown",
      "source": [
        "\n",
        "<tbody>\n",
        "<tr>\n",
        "<td><b>x</b></td>\n",
        "<td><b>y</b></td>\n",
        "<td><b>x or y</b></td>\n",
        "</tr>\n",
        "<tr>\n",
        "<td>False (0)</td>\n",
        "<td>False (0)</td>\n",
        "<td>False (0)</td>\n",
        "</tr>\n",
        "<tr>\n",
        "<td>False (0)</td>\n",
        "<td>True (1)</td>\n",
        "<td>True (1)</td>\n",
        "</tr>\n",
        "<tr>\n",
        "<td>True (1)</td>\n",
        "<td>False (0)</td>\n",
        "<td>True (1)</td>\n",
        "</tr>\n",
        "<tr>\n",
        "<td>True (1)</td>\n",
        "<td>True (1)</td>\n",
        "<td>True (1)</td>\n",
        "</tr>\n",
        "\n",
        "</tbody>"
      ],
      "metadata": {
        "id": "Vs_amdlDiQBY"
      }
    },
    {
      "cell_type": "code",
      "source": [
        "a = 1\n",
        "\n",
        "cond_1 = 0 < a\n",
        "\n",
        "cond_2 = 4 > a\n",
        "\n",
        "print(cond_1 or cond_2)"
      ],
      "metadata": {
        "id": "Gy9WHiIy-wUw",
        "colab": {
          "base_uri": "https://localhost:8080/"
        },
        "outputId": "afeae99d-28de-4f59-bec8-ca3bbb181384"
      },
      "execution_count": null,
      "outputs": [
        {
          "output_type": "stream",
          "name": "stdout",
          "text": [
            "True\n"
          ]
        }
      ]
    },
    {
      "cell_type": "code",
      "source": [
        "str_1 = 'python'\n",
        "str_2 = 'sql'\n",
        "\n",
        "target_len = 5\n",
        "\n",
        "print(len(str_1) > target_len or len(str_2) > target_len)"
      ],
      "metadata": {
        "id": "79IxkFp--xyA",
        "colab": {
          "base_uri": "https://localhost:8080/"
        },
        "outputId": "8f80c854-e217-410c-be71-5312dd3190c1"
      },
      "execution_count": null,
      "outputs": [
        {
          "output_type": "stream",
          "name": "stdout",
          "text": [
            "True\n"
          ]
        }
      ]
    },
    {
      "cell_type": "markdown",
      "source": [
        "Приоритет логических действий аналогичен сложению и умножению обычных чисел. Ведь сначала выполняется умножение, а потом сложение, если приоритет действий не изменяется скобками."
      ],
      "metadata": {
        "id": "b_e3H_wN_O97"
      }
    },
    {
      "cell_type": "code",
      "source": [
        "# приоритет логических комбинаций (сначала not, потом and-умножение, потом or-сложение)\n",
        "\n",
        "print(True and True or True and False or not True)\n",
        "# print(True)\n",
        "\n",
        "print(True and (True or True) and False or not True)\n",
        "# print(False)"
      ],
      "metadata": {
        "id": "t1l8qZ2C_OCV"
      },
      "execution_count": null,
      "outputs": []
    },
    {
      "cell_type": "markdown",
      "metadata": {
        "id": "IYmTF0xN7QlV"
      },
      "source": [
        "## [Приоритет операторов](https://t.me/pythontalk_ru/1549)\n",
        "\n",
        "А если в одном выражении комбинирован не только логические операторы, но и другие? Их приоритет определяется следующим образом:"
      ]
    },
    {
      "cell_type": "markdown",
      "metadata": {
        "id": "ChRRb-uA7QlV"
      },
      "source": [
        "- Операции в скобках\n",
        "- Возведение в степень: `**`\n",
        "- Унарные операции: `+x, -x, ~x`\n",
        "- Умножение, деление, остаток: `a *, /, //, % b`\n",
        "- Сложение, вычитание: `a +,- b`\n",
        "- Сравнения: `is, is not, <, <=, >, >=, !=, ==`\n",
        "- `not x`\n",
        "- `a and b`\n",
        "- `a or b`"
      ]
    },
    {
      "cell_type": "markdown",
      "source": [
        "Рекомендую почитать интересный [материал](https://teletype.in/@pythontalk/number_logic) про нюансы."
      ],
      "metadata": {
        "id": "ShQgIk7Dw_DC"
      }
    },
    {
      "cell_type": "markdown",
      "source": [
        "## [Условия](https://t.me/pythontalk_ru/1640)\n",
        "\n",
        "Условие задаётся логическим выражением, которое может принимать два значения («истина» или «ложь») и в зависимости от этого выполнются какие-то действия.\n",
        "```\n",
        "if Условие:\n",
        "    Блок инструкций 1\n",
        "```\n",
        "Условие начинается с ключевого слова `if`. Далее следует проверка, которая должна в конечном итоге принять значение `True` или `False`. Если условие истинно, выполняется блок кода, прописанный в этом условии.  \n",
        "\n",
        "Интерпретатор, встречая ключевое слово `if`, ожидает после него условие, которое обязательно должно закончиться двоеточием. Далее должны следовать соответствующие блоки инструкций, которые должны быть отделены отступом от предыдущего уровня вложенности.\n",
        "\n",
        "Ознакомтесь с материалом по отступам [здесь](https://t.me/pythontalk_ru/2256)."
      ],
      "metadata": {
        "id": "4sppktkoub1C"
      }
    },
    {
      "cell_type": "code",
      "source": [
        "is_rainy = True\n",
        "\n",
        "if is_rainy:\n",
        "    print(\"Возьми зонт\")\n",
        "\n",
        "print(\"Конец программы\")"
      ],
      "metadata": {
        "id": "bYkGyHqpvS7E",
        "colab": {
          "base_uri": "https://localhost:8080/"
        },
        "outputId": "47110b52-3525-4159-dacf-101f6cc00c56"
      },
      "execution_count": null,
      "outputs": [
        {
          "output_type": "stream",
          "name": "stdout",
          "text": [
            "Возьми зонт\n",
            "Конец программы\n"
          ]
        }
      ]
    },
    {
      "cell_type": "markdown",
      "source": [
        "И вновь запустим программу. Почему на экране ничего не происходит? Дело в том, что условие, заданное в условном операторе, не выполняется (результат — `False`), а значит, блок инструкций следующий за `if` не выполняется. А так как после условного оператора не находится никаких других инструкций, то программа завершает свою работу.\n",
        "\n"
      ],
      "metadata": {
        "id": "5p2-uJ3Uv1in"
      }
    },
    {
      "cell_type": "code",
      "source": [
        "is_rainy = False\n",
        "\n",
        "if is_rainy:\n",
        "    print(\"Возьми зонт\")\n",
        "\n",
        "print(\"Конец программы\")"
      ],
      "metadata": {
        "id": "rXEWmFIBv1VV",
        "colab": {
          "base_uri": "https://localhost:8080/"
        },
        "outputId": "87f4525a-3cc6-4992-c7fb-c5a33e70efa8"
      },
      "execution_count": null,
      "outputs": [
        {
          "output_type": "stream",
          "name": "stdout",
          "text": [
            "Конец программы\n"
          ]
        }
      ]
    },
    {
      "cell_type": "markdown",
      "source": [
        "### Блок `else`\n",
        "\n",
        "Также в условии может присутствовать блок `else`, который отвечает за то, что делать \"во всех остальных случаях\".\n"
      ],
      "metadata": {
        "id": "5mUwQRBYxBCI"
      }
    },
    {
      "cell_type": "code",
      "source": [
        "is_rainy = False\n",
        "\n",
        "if is_rainy:\n",
        "    print(\"Возьми зонт\")\n",
        "else:\n",
        "    print(\"Не бери зонт\")"
      ],
      "metadata": {
        "id": "Ta-Y3J8vxToT",
        "colab": {
          "base_uri": "https://localhost:8080/"
        },
        "outputId": "640488b7-ab58-45f1-aea9-a99b518b562c"
      },
      "execution_count": null,
      "outputs": [
        {
          "output_type": "stream",
          "name": "stdout",
          "text": [
            "Не бери зонт\n"
          ]
        }
      ]
    },
    {
      "cell_type": "markdown",
      "metadata": {
        "id": "PY_n-RlR54ON"
      },
      "source": [
        "### Тернарный условный оператор\n",
        "\n",
        "Тернарный оператор в Python - это способ написания коротких условных выражений с одним действием.\n",
        "\n",
        "Общий синтаксис тернарного оператора выглядит так:\n",
        "\n",
        "`value_if_true if condition else value_if_false`"
      ]
    },
    {
      "cell_type": "markdown",
      "source": [
        "Это стандартная запись:"
      ],
      "metadata": {
        "id": "VrqyusXasnVL"
      }
    },
    {
      "cell_type": "code",
      "metadata": {
        "id": "D2owehr25SCh",
        "colab": {
          "base_uri": "https://localhost:8080/"
        },
        "outputId": "5783128a-6c66-40fc-e25e-b9af890d04d0"
      },
      "source": [
        "num = 5\n",
        "\n",
        "if num % 2 == 0:\n",
        "    print('Чётное')\n",
        "else:\n",
        "    print('Нечётное')"
      ],
      "execution_count": null,
      "outputs": [
        {
          "output_type": "stream",
          "name": "stdout",
          "text": [
            "Нечётное\n"
          ]
        }
      ]
    },
    {
      "cell_type": "markdown",
      "source": [
        "А можно так:"
      ],
      "metadata": {
        "id": "vxLop__3sdMZ"
      }
    },
    {
      "cell_type": "code",
      "metadata": {
        "id": "pf8KAcfm6MGE",
        "colab": {
          "base_uri": "https://localhost:8080/"
        },
        "outputId": "f2748e4a-4b6a-496e-c248-c6518b820df8"
      },
      "source": [
        "num = 6\n",
        "\n",
        "print('Чётное') if num % 2 == 0 else print('Нечётное')"
      ],
      "execution_count": null,
      "outputs": [
        {
          "output_type": "stream",
          "name": "stdout",
          "text": [
            "Чётное\n"
          ]
        }
      ]
    },
    {
      "cell_type": "markdown",
      "source": [
        "Тернарный оператор в Python очень удобен для написания коротких и простых условных выражений, но его следует использовать с осторожностью в более сложных ситуациях, чтобы не ухудшить читаемость кода."
      ],
      "metadata": {
        "id": "a8KSTKWU05p5"
      }
    },
    {
      "cell_type": "markdown",
      "metadata": {
        "id": "3JJOjRSeT2pD"
      },
      "source": [
        "Напишем программу, которая будет определять, является ли год високосным или обычным.\n",
        "\n",
        "Високосными годами считаются те годы, порядковый номер которых либо кратен 4, но при этом не кратен 100, либо кратен 400\n",
        "\n",
        "\n"
      ]
    },
    {
      "cell_type": "code",
      "source": [
        "year = int(input())\n",
        "\n",
        "if (year % 4 == 0) and (year % 100 != 0) or (year % 400 == 0):\n",
        "    print('Високосный год')\n",
        "else:\n",
        "    print('Обычный год')"
      ],
      "metadata": {
        "id": "qhXmUhhhvEoi",
        "colab": {
          "base_uri": "https://localhost:8080/"
        },
        "outputId": "61bf989f-8aef-425f-dc0c-87385fd8d937"
      },
      "execution_count": null,
      "outputs": [
        {
          "output_type": "stream",
          "name": "stdout",
          "text": [
            "1991\n",
            "Обычный год\n"
          ]
        }
      ]
    },
    {
      "cell_type": "markdown",
      "source": [
        "\\Или можно использовать тернарный оператор:"
      ],
      "metadata": {
        "id": "VzSEitJUtKN0"
      }
    },
    {
      "cell_type": "code",
      "source": [
        "year = int(input())\n",
        "print('Високосный год') if (year % 4 == 0) and (year % 100 != 0) or (year % 400 == 0) else print('Обычный год')"
      ],
      "metadata": {
        "id": "uPx_1lQJtDWr",
        "colab": {
          "base_uri": "https://localhost:8080/"
        },
        "outputId": "3eafa5e1-3ea8-4a75-fa26-5fa7bb03e934"
      },
      "execution_count": null,
      "outputs": [
        {
          "output_type": "stream",
          "name": "stdout",
          "text": [
            "2024\n",
            "Високосный год\n"
          ]
        }
      ]
    },
    {
      "cell_type": "markdown",
      "source": [
        "### Вложенные условия"
      ],
      "metadata": {
        "id": "py-jHHfCyJk0"
      }
    },
    {
      "cell_type": "markdown",
      "source": [
        "Не всегда можно описать логику работы программы с помощью простых условных операторов, и приходится внутри ещё раз использовать условные операторы, которые называются вложенными.\n",
        "\n"
      ],
      "metadata": {
        "id": "uUKoi0rqyL9D"
      }
    },
    {
      "cell_type": "code",
      "source": [
        "is_rainy = True\n",
        "heavy_rain = False\n",
        "\n",
        "if is_rainy:\n",
        "    if heavy_rain:\n",
        "        print(\"Возьми зонт\")\n",
        "    else:\n",
        "        print(\"Возьми дождевик\")\n",
        "else:\n",
        "    print(\"Ничего не бери\")"
      ],
      "metadata": {
        "id": "6Iov5xFMyPlv",
        "colab": {
          "base_uri": "https://localhost:8080/"
        },
        "outputId": "4eb3ad81-a630-4851-fdae-c4695914d2e6"
      },
      "execution_count": null,
      "outputs": [
        {
          "output_type": "stream",
          "name": "stdout",
          "text": [
            "Возьми дождевик\n"
          ]
        }
      ]
    },
    {
      "cell_type": "markdown",
      "source": [
        "Стоит обратить внимание на синтаксис вложенных условий. Надо не забывать ставить отступы относительно текущего уровня вложенности для блока кода внутри."
      ],
      "metadata": {
        "id": "5hb7f-zTyan4"
      }
    },
    {
      "cell_type": "markdown",
      "source": [
        "Напишет алгоритм, который будет определять, можно ли выдавать кредит заёмщику."
      ],
      "metadata": {
        "id": "8jV8fU1Kymk-"
      }
    },
    {
      "cell_type": "code",
      "source": [
        "credit_score = 700\n",
        "bail = True\n",
        "guarantors = False\n",
        "credit = 100000\n",
        "\n",
        "if credit_score < 600:\n",
        "    if bail:\n",
        "        if guarantors:\n",
        "            print('Выдаём кредит')\n",
        "        else:\n",
        "            print('Не выдаём кредит')\n",
        "    else:\n",
        "        print('Не выдаём кредит')\n",
        "else:\n",
        "    if credit <= 1000000:\n",
        "        print('Выдаём кредит')\n",
        "    else:\n",
        "        print('Не выдаём кредит')"
      ],
      "metadata": {
        "id": "yenkO6v4yrLK"
      },
      "execution_count": null,
      "outputs": []
    },
    {
      "cell_type": "markdown",
      "source": [
        "### Блок `elif`\n",
        "\n",
        "Если к условию добавить блок(и) `elif` (которые можно воспринимать как «а если…»), то эти блоки, так как же как и `if`, должны содержать условие — выражение, результатом которого является `True` или `False`.\n",
        "\n",
        "В случае выполнения какой-либо из проверок все оставшиеся даже не проверяются, чтобы не увеличивать время выполнения программы."
      ],
      "metadata": {
        "id": "IECssOTm2em1"
      }
    },
    {
      "cell_type": "code",
      "source": [
        "age = 20\n",
        "grade = 20\n",
        "\n",
        "if age >= 18:\n",
        "    if grade < 100:\n",
        "        print('На пересдачу')\n",
        "    elif grade < 150:\n",
        "        print('В колледж')\n",
        "    elif grade <= 200:\n",
        "        print('В МГУ')\n",
        "    else:\n",
        "        print('Таких баллов не бывает!')\n",
        "else:\n",
        "    print('Подождём совершеннолетия')"
      ],
      "metadata": {
        "id": "1pYabgyw3U03",
        "colab": {
          "base_uri": "https://localhost:8080/"
        },
        "outputId": "964e435e-54d8-4c6a-abb8-779828a0893c"
      },
      "execution_count": null,
      "outputs": [
        {
          "output_type": "stream",
          "name": "stdout",
          "text": [
            "На пересдачу\n"
          ]
        }
      ]
    },
    {
      "cell_type": "markdown",
      "source": [
        "### Сравним возможные способы записи условий"
      ],
      "metadata": {
        "id": "6LWURpTFeKlQ"
      }
    },
    {
      "cell_type": "code",
      "source": [
        "x = float(input('Введите координату Х: '))\n",
        "y = float(input('Введите координату Y: '))\n",
        "\n",
        "if x != 0 and y != 0:\n",
        "    if x > 0 and y > 0:\n",
        "        print('I')\n",
        "    elif x > 0 and y < 0:\n",
        "        print('IV')\n",
        "    elif y > 0:\n",
        "        print('II')\n",
        "    else:\n",
        "        print('III')\n",
        "else:\n",
        "    print('На осях')"
      ],
      "metadata": {
        "id": "mLNCKFmnSY5d",
        "colab": {
          "base_uri": "https://localhost:8080/"
        },
        "outputId": "7c25f957-a326-44b9-a6e7-4ef510e3a6e7"
      },
      "execution_count": null,
      "outputs": [
        {
          "output_type": "stream",
          "name": "stdout",
          "text": [
            "Введите координату Х: -7\n",
            "Введите координату Y: -9\n",
            "III\n"
          ]
        }
      ]
    },
    {
      "cell_type": "code",
      "source": [
        "x = float(input('Введите координату Х: '))\n",
        "y = float(input('Введите координату Y: '))\n",
        "\n",
        "if x != 0 and y != 0:\n",
        "    if x > 0:\n",
        "        if y > 0:\n",
        "            print('I')\n",
        "        else:\n",
        "            print('IV')\n",
        "    else:\n",
        "        if y > 0:\n",
        "            print('II')\n",
        "        else:\n",
        "            print('III')\n",
        "else:\n",
        "    print('На осях')"
      ],
      "metadata": {
        "id": "eVCdGX0FSjik",
        "colab": {
          "base_uri": "https://localhost:8080/"
        },
        "outputId": "3c586096-e73f-44f9-a5c0-ac20c62c4123"
      },
      "execution_count": null,
      "outputs": [
        {
          "output_type": "stream",
          "name": "stdout",
          "text": [
            "Введите координату Х: 6\n",
            "Введите координату Y: 7\n",
            "I\n"
          ]
        }
      ]
    },
    {
      "cell_type": "code",
      "source": [
        "x = float(input('Введите координату Х: '))\n",
        "y = float(input('Введите координату Y: '))\n",
        "\n",
        "if x != 0 and y != 0:\n",
        "    if x > 0:\n",
        "        print('I') if y > 0 else print('IV')\n",
        "    else:\n",
        "        print('II') if y > 0 else print('III')\n",
        "else:\n",
        "    print('На осях')"
      ],
      "metadata": {
        "id": "BsijeiFjanDd",
        "colab": {
          "base_uri": "https://localhost:8080/"
        },
        "outputId": "af669ac8-5278-4b62-bd4a-f1757324a4d3"
      },
      "execution_count": null,
      "outputs": [
        {
          "output_type": "stream",
          "name": "stdout",
          "text": [
            "Введите координату Х: 6\n",
            "Введите координату Y: 4\n",
            "I\n"
          ]
        }
      ]
    },
    {
      "cell_type": "markdown",
      "source": [
        "## [match case](https://teletype.in/@pythontalk/match_case)"
      ],
      "metadata": {
        "id": "mN6QdDTKObAc"
      }
    },
    {
      "cell_type": "markdown",
      "source": [
        "Начиная с версии 3.10 в Python появилась такая функциональность как pattern matching (сопоставление шаблонов). С помощью выражения match-case можно избавиться от довольно громоздких цепочек if-elif-else, например:\n",
        "\n"
      ],
      "metadata": {
        "id": "ZSJs8hLyOagw"
      }
    },
    {
      "cell_type": "code",
      "source": [
        "language = \"russian\"\n",
        "\n",
        "if language == \"russian\":\n",
        "    print(\"Привет\")\n",
        "elif language == \"english\":\n",
        "    print(\"Hello\")\n",
        "elif language == \"german\":\n",
        "    print(\"Hallo\")"
      ],
      "metadata": {
        "id": "p8HMvX2iOqTT"
      },
      "execution_count": null,
      "outputs": []
    },
    {
      "cell_type": "markdown",
      "source": [
        "Проверка `language == \"something\"` повторяется многократно. И совершенно ясно, что при каждой проверке мы обращаемся к переменной `language`. Если бы можно было не повторять `language == \"something\"`, код стал бы чище и короче.\n",
        "\n",
        "Для этого можно использовать выражение match-case. Общая структура у него такая:\n",
        "\n",
        "```\n",
        "match element:\n",
        "    case pattern1:\n",
        "        # statements\n",
        "    case pattern2:\n",
        "        # statements\n",
        "    case pattern3:\n",
        "        # statements\n",
        "```\n",
        "\n",
        "В этой конструкции кода:\n",
        "\n",
        "* `match element` означает «сопоставьте элемент со следующими шаблонами»\n",
        "* затем каждое выражение `case pattern` сравнивает элемент с указанным шаблоном (это может быть, например, строка или число)\n",
        "* если шаблон соответствует элементу, выполняется соответствующий блок кода, после этого оператор match-case заканчивает свою работу.\n",
        "\n",
        "Обратите внимание, что блоки `case` имеют отступы от начала конструкции `match`. А инструкции каждого блока `case` имеют отступы от начала данного блока `case`.\n",
        "\n",
        "Причем если выражение из `match` не соответствует ни одному из шаблонов `case`, то соответственно ни один из этих блоков `case` не выполняется.\n",
        "\n",
        "\n",
        "\n"
      ],
      "metadata": {
        "id": "CRJR39eAPPFb"
      }
    },
    {
      "cell_type": "markdown",
      "source": [
        "Наш пример можно записать так:"
      ],
      "metadata": {
        "id": "-LGZ0cppPtSq"
      }
    },
    {
      "cell_type": "code",
      "source": [
        "language = \"russian\"\n",
        "\n",
        "match language:\n",
        "    case \"russian\":\n",
        "        print(\"Привет\")\n",
        "    case \"english\":\n",
        "        print(\"Hello\")\n",
        "    case \"german\":\n",
        "        print(\"Hallo\")"
      ],
      "metadata": {
        "id": "-No6ZqfYO4Mj",
        "colab": {
          "base_uri": "https://localhost:8080/"
        },
        "outputId": "857f4219-4386-48bf-afac-de2c8f455f1e"
      },
      "execution_count": null,
      "outputs": [
        {
          "output_type": "stream",
          "name": "stdout",
          "text": [
            "Привет\n"
          ]
        }
      ]
    },
    {
      "cell_type": "markdown",
      "source": [
        "Во многих случаях такой вариант делает код более читаемым, избавляет его от повторений.\n",
        "\n"
      ],
      "metadata": {
        "id": "vR18dv0AO_65"
      }
    },
    {
      "cell_type": "markdown",
      "source": [
        "Если необходимо, чтобы при несовпадении значений (если ни один из шаблонов `case` не соответствует выражению `match`) выполнялись некоторые действия по умолчанию, то в этом случае применяется шаблон `_` (подчёркивание):\n",
        "\n"
      ],
      "metadata": {
        "id": "9a74akiOQWnO"
      }
    },
    {
      "cell_type": "markdown",
      "source": [],
      "metadata": {
        "id": "IOVE_fbCCPFQ"
      }
    },
    {
      "cell_type": "markdown",
      "source": [],
      "metadata": {
        "id": "GLivXNIUCO9J"
      }
    },
    {
      "cell_type": "code",
      "source": [
        "language = \"unknown language\"\n",
        "\n",
        "match language:\n",
        "    case \"russian\":\n",
        "        print(\"Привет\")\n",
        "    case \"english\":\n",
        "        print(\"Hello\")\n",
        "    case \"german\":\n",
        "        print(\"Hallo\")\n",
        "    case _:\n",
        "        print(\"Неизвестный язык\")\n"
      ],
      "metadata": {
        "id": "XdrrEFIlQa4w",
        "colab": {
          "base_uri": "https://localhost:8080/"
        },
        "outputId": "3c65e6ac-7da6-4290-e2f6-03b0418ec349"
      },
      "execution_count": null,
      "outputs": [
        {
          "output_type": "stream",
          "name": "stdout",
          "text": [
            "Неизвестный язык\n"
          ]
        }
      ]
    },
    {
      "cell_type": "markdown",
      "source": [
        "Также можно определить блок case, который позволяет сравнивать сразу с несколькими знечениями. В этом случае значения разделяются вертикальной чертой (ИЛИ):\n",
        "\n"
      ],
      "metadata": {
        "id": "drFxur6KQf3B"
      }
    },
    {
      "cell_type": "code",
      "source": [
        "language = \"english\"\n",
        "\n",
        "match language:\n",
        "    case \"russian\":\n",
        "        print(\"Привет\")\n",
        "    case \"british english\" | \"american english\" | \"english\":\n",
        "    # elif language == \"british english\" or language == \"american english\" or language == \"english\":\n",
        "        print(\"Hello\")\n",
        "    case \"german\":\n",
        "        print(\"Hallo\")\n",
        "    case _:\n",
        "        print(\"Неизвестный язык\")"
      ],
      "metadata": {
        "id": "KmVk2CiaRCGl",
        "colab": {
          "base_uri": "https://localhost:8080/"
        },
        "outputId": "48c8e4f7-5257-4fbd-a63b-627cf309cfee"
      },
      "execution_count": null,
      "outputs": [
        {
          "output_type": "stream",
          "name": "stdout",
          "text": [
            "Hello\n"
          ]
        }
      ]
    },
    {
      "cell_type": "markdown",
      "source": [
        "## Неявное преобразование типов"
      ],
      "metadata": {
        "id": "LA3CH4fLzSMk"
      }
    },
    {
      "cell_type": "markdown",
      "source": [
        "Если вы не используете никакой логический оператор или оператор сравнения в условии, то Python за вас производит неявное приведение типов - переводит переменную к логическому типу и проверяет её значение.\n",
        "\n",
        "Вот сводная таблица приведения некоторых типов данных к bool:\n",
        "\n",
        "\n"
      ],
      "metadata": {
        "id": "kM2kGq9hzYJS"
      }
    },
    {
      "cell_type": "markdown",
      "source": [
        "<tbody>\n",
        "<tr>\n",
        "<td></td>\n",
        "<td><b>True</b></td>\n",
        "<td><b>False</b></td>\n",
        "</tr>\n",
        "<tr>\n",
        "<td>int</td>\n",
        "<td>-5, 10\n",
        "<p>(Любое целое число, отличное от нуля)</p>\n",
        "</td>\n",
        "<td>0</td>\n",
        "</tr>\n",
        "<tr>\n",
        "<td>float</td>\n",
        "<td>-0.6, 45.5\n",
        "<p>(Любое число с плавающей точкой, отличное от нуля)</p>\n",
        "</td>\n",
        "<td>0.0</td>\n",
        "</tr>\n",
        "<tr>\n",
        "<td>str</td>\n",
        "<td>\"String\"</code>\n",
        "<p>(Любая непустая строка)</p>\n",
        "</td>\n",
        "<td>\"\"</td>\n",
        "</tr>\n",
        "<tr>\n",
        "<td>list</td>\n",
        "<td>[1, 2, 3]</code>\n",
        "<p>(Любой&nbsp;непустой список)</p>\n",
        "</td>\n",
        "<td>[]</td>\n",
        "</tr>\n",
        "<tr>\n",
        "<td>dict</td>\n",
        "<td><code>{\"one\": 1, \"two\": 2}</code>\n",
        "<p>(Любой непустой словарь)</p>\n",
        "</td>\n",
        "<td>{}</td>\n",
        "</tr>\n",
        "<tr>\n",
        "<td>NoneType</td>\n",
        "<td>-</td>\n",
        "<td><em>None</em></td>\n",
        "</tr>\n",
        "</tbody>"
      ],
      "metadata": {
        "id": "WENBmJ0LwNp8"
      }
    },
    {
      "cell_type": "markdown",
      "source": [
        "Чтобы проверить, к чему будет приведён тот или иной тип, можно воспользоваться встроенной функцией `bool()`."
      ],
      "metadata": {
        "id": "2TKOGTNjzgJZ"
      }
    },
    {
      "cell_type": "code",
      "source": [
        "print(bool(893), bool(-8), bool(0))"
      ],
      "metadata": {
        "id": "o5TWWyUSziaf",
        "colab": {
          "base_uri": "https://localhost:8080/"
        },
        "outputId": "d6060a20-f0ae-49ff-9f2c-1ec4c533cd78"
      },
      "execution_count": null,
      "outputs": [
        {
          "output_type": "stream",
          "name": "stdout",
          "text": [
            "True True False\n"
          ]
        }
      ]
    },
    {
      "cell_type": "code",
      "source": [
        "number = 42\n",
        "\n",
        "# так избыточно\n",
        "if number != 0:\n",
        "   print(10 / number)\n",
        "else:\n",
        "   print(\"Нельзя делить на ноль\")"
      ],
      "metadata": {
        "id": "WY_XunBP0D96",
        "colab": {
          "base_uri": "https://localhost:8080/"
        },
        "outputId": "397b09f9-d71c-436d-eb94-7109aa5187e6"
      },
      "execution_count": null,
      "outputs": [
        {
          "output_type": "stream",
          "name": "stdout",
          "text": [
            "0.23809523809523808\n"
          ]
        }
      ]
    },
    {
      "cell_type": "code",
      "source": [
        "# а так ок\n",
        "\n",
        "if number:\n",
        "   print(10 / number)\n",
        "else:\n",
        "   print(\"Нельзя делить на ноль\")"
      ],
      "metadata": {
        "id": "0FPtH_6T0FBA",
        "colab": {
          "base_uri": "https://localhost:8080/"
        },
        "outputId": "ca1d7793-8fd5-46f0-f11d-c21d5ec2665d"
      },
      "execution_count": null,
      "outputs": [
        {
          "output_type": "stream",
          "name": "stdout",
          "text": [
            "0.23809523809523808\n"
          ]
        }
      ]
    },
    {
      "cell_type": "code",
      "source": [
        "print(bool(\"Hello, world\"), bool(\"\"))"
      ],
      "metadata": {
        "id": "ucHnj0Z-zpzK"
      },
      "execution_count": null,
      "outputs": []
    },
    {
      "cell_type": "code",
      "source": [
        "password = input(\"Введите пароль\")\n",
        "\n",
        "# избыточно\n",
        "if len(password) == 0:\n",
        "   print(\"Пароль не введён\")\n",
        "else:\n",
        "   print(\"Пароль введён\")"
      ],
      "metadata": {
        "id": "hE686x3lz1t9"
      },
      "execution_count": null,
      "outputs": []
    },
    {
      "cell_type": "code",
      "source": [
        "password = input('Введите пароль')\n",
        "\n",
        "# избыточно\n",
        "if password == \"\":\n",
        "   print(\"Пароль не введён\")\n",
        "else:\n",
        "   print(\"Пароль введён\")"
      ],
      "metadata": {
        "id": "bi2IF3rVz3Hs"
      },
      "execution_count": null,
      "outputs": []
    },
    {
      "cell_type": "code",
      "source": [
        "password = input(\"Введите пароль\")\n",
        "\n",
        "# хорошо\n",
        "if password:\n",
        "    print(\"Пароль введён\")\n",
        "else:\n",
        "    print(\"Пароль не введён\")"
      ],
      "metadata": {
        "id": "O-g9AYibz4zA"
      },
      "execution_count": null,
      "outputs": []
    },
    {
      "cell_type": "markdown",
      "source": [
        "## Что ещё почитать?\n",
        "\n",
        "* [6 частых ошибок начинающих программистов на Python 😬](https://t.me/pythontalk_ru/1824)\n",
        "\n",
        "* [Почему мой код не работает?](https://t.me/pythontalk_ru/1709)"
      ],
      "metadata": {
        "id": "KABHKdi3zCJA"
      }
    },
    {
      "cell_type": "code",
      "source": [],
      "metadata": {
        "id": "pnA8nOJXoxuB"
      },
      "execution_count": null,
      "outputs": []
    }
  ],
  "metadata": {
    "kernelspec": {
      "display_name": "Python 3 (ipykernel)",
      "language": "python",
      "name": "python3"
    },
    "language_info": {
      "codemirror_mode": {
        "name": "ipython",
        "version": 3
      },
      "file_extension": ".py",
      "mimetype": "text/x-python",
      "name": "python",
      "nbconvert_exporter": "python",
      "pygments_lexer": "ipython3",
      "version": "3.9.7"
    },
    "toc": {
      "base_numbering": 1,
      "nav_menu": {},
      "number_sections": true,
      "sideBar": true,
      "skip_h1_title": false,
      "title_cell": "Table of Contents",
      "title_sidebar": "Contents",
      "toc_cell": false,
      "toc_position": {},
      "toc_section_display": true,
      "toc_window_display": false
    },
    "colab": {
      "provenance": [],
      "include_colab_link": true
    }
  },
  "nbformat": 4,
  "nbformat_minor": 0
}